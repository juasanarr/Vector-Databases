{
 "cells": [
  {
   "cell_type": "code",
   "execution_count": 4,
   "id": "6c15edd988ddc3d2",
   "metadata": {
    "ExecuteTime": {
     "end_time": "2025-03-02T18:30:10.409376Z",
     "start_time": "2025-03-02T18:30:10.232219Z"
    }
   },
   "outputs": [],
   "source": [
    "import sys\n",
    "import matplotlib.pyplot as plt\n",
    "import numpy as np\n",
    "import networkx as nx \n",
    "from scipy.spatial import Delaunay\n",
    "from scipy.cluster.vq import kmeans, vq\n",
    "import sys\n",
    "sys.setrecursionlimit(30000000)"
   ]
  },
  {
   "cell_type": "code",
   "execution_count": 5,
   "id": "a9dbe74c31aa2579",
   "metadata": {
    "ExecuteTime": {
     "end_time": "2025-03-02T18:30:10.424309Z",
     "start_time": "2025-03-02T18:30:10.416056Z"
    }
   },
   "outputs": [],
   "source": [
    "def euclidiana(u,v):\n",
    "    return np.linalg.norm(u-v)"
   ]
  },
  {
   "cell_type": "code",
   "execution_count": 6,
   "id": "c209427b",
   "metadata": {},
   "outputs": [],
   "source": [
    "def cs(u,v):\n",
    "    return np.dot(u, v) / (np.linalg.norm(u) * np.linalg.norm(v))"
   ]
  },
  {
   "cell_type": "code",
   "execution_count": 7,
   "id": "3946bee03f03cf24",
   "metadata": {
    "ExecuteTime": {
     "end_time": "2025-03-02T18:30:10.445564Z",
     "start_time": "2025-03-02T18:30:10.437342Z"
    }
   },
   "outputs": [],
   "source": [
    "class Nodo:\n",
    "    def __init__(self, vectores=None,padre=None, mediana=None, beta=None, unitario=None, prof=0, izq=None, der=None,*,visitado=False):\n",
    "        self.vectores = vectores\n",
    "        self.mediana = mediana\n",
    "        self.beta = beta\n",
    "        self.unitario = unitario\n",
    "        self.padre = padre\n",
    "        self.prof = prof\n",
    "        self.izq = izq\n",
    "        self.der = der\n",
    "        self.visitado = visitado\n",
    "\n",
    "    def es_hoja(self):\n",
    "        return self.vectores is not None"
   ]
  },
  {
   "cell_type": "code",
   "execution_count": 8,
   "id": "d1f00e499f3baccb",
   "metadata": {
    "ExecuteTime": {
     "end_time": "2025-03-02T18:30:10.488983Z",
     "start_time": "2025-03-02T18:30:10.477137Z"
    }
   },
   "outputs": [],
   "source": [
    "def construye_arbol_medianas(base, m0, prof):\n",
    "    # Aquí escribimos el caso base de la funcion, devolviendo una hoja si se cumple alguna condicion que se especifica en el pseudocódigo proporcionado\n",
    "    if base.shape[0] <= m0 or base.shape[1] == prof:\n",
    "        # Se devuelve la clase mayoritaria y la distribución con un diccionario que asocia cada clase al número de elementos que tiene asociada\n",
    "        return Nodo(vectores=base, prof=prof)\n",
    "    else:\n",
    "        coordenada = base[:, prof]\n",
    "        mediana = np.median(coordenada)\n",
    "        # Dividimos la base\n",
    "        base_izq = base[coordenada < mediana]\n",
    "        base_der = base[coordenada >= mediana]\n",
    "\n",
    "        # Y hacemos las llamadas recursivas\n",
    "        A_izq = construye_arbol_medianas(base_izq, m0, prof + 1)\n",
    "        A_der = construye_arbol_medianas(base_der, m0, prof + 1)\n",
    "\n",
    "        # Una vez terminadas, devolvemos el nodo con todo lo calculado en la función\n",
    "        return Nodo(mediana=mediana, prof=prof, izq=A_izq, der=A_der)\n",
    "\n"
   ]
  },
  {
   "cell_type": "code",
   "execution_count": 9,
   "id": "762e4c0308a70520",
   "metadata": {
    "ExecuteTime": {
     "end_time": "2025-03-02T18:30:10.508759Z",
     "start_time": "2025-03-02T18:30:10.499377Z"
    }
   },
   "outputs": [],
   "source": [
    "def construye_arbol_random(base, m0, prof):\n",
    "    # Aquí escribimos el caso base de la funcion, devolviendo una hoja si se cumple alguna condicion que se especifica en el pseudocódigo proporcionado\n",
    "    if base.shape[0] <= m0 or base.shape[1] == prof:\n",
    "        # Se devuelve la clase mayoritaria y la distribución con un diccionario que asocia cada clase al número de elementos que tiene asociada\n",
    "        return Nodo(vectores=base, prof=prof)\n",
    "    else:\n",
    "        vector = np.random.randn(base.shape[1])\n",
    "        unitario = vector / np.linalg.norm(vector)\n",
    "        beta = 100 * (np.random.rand() * (1 / 2)) + 1 / 4\n",
    "        escalares = np.dot(unitario, base.T)\n",
    "        proyecciones = escalares / np.linalg.norm(base)\n",
    "        percentil = np.percentile(proyecciones, beta)\n",
    "        # Dividimos la base\n",
    "        base_izq = base[escalares < percentil]\n",
    "        base_der = base[escalares >= percentil]\n",
    "\n",
    "        # Y hacemos las llamadas recursivas\n",
    "        A_izq = construye_arbol_random(base_izq, m0, prof + 1)\n",
    "        A_der = construye_arbol_random(base_der, m0, prof + 1)\n",
    "\n",
    "        # Una vez terminadas, devolvemos el nodo con todo lo calculado en la función\n",
    "        return Nodo(beta=beta, unitario=unitario, prof=prof, izq=A_izq, der=A_der)"
   ]
  },
  {
   "cell_type": "code",
   "execution_count": 10,
   "id": "783fee18b9ae1915",
   "metadata": {
    "ExecuteTime": {
     "end_time": "2025-03-02T18:30:10.537511Z",
     "start_time": "2025-03-02T18:30:10.525405Z"
    }
   },
   "outputs": [],
   "source": [
    "def construye_arbol_spill(base, m0, prof, alfa):\n",
    "    # Aquí escribimos el caso base de la funcion, devolviendo una hoja si se cumple alguna condicion que se especifica en el pseudocódigo proporcionado\n",
    "    if base.shape[0] <= m0 or base.shape[1] == prof:\n",
    "        # Se devuelve la clase mayoritaria y la distribución con un diccionario que asocia cada clase al número de elementos que tiene asociada\n",
    "        return Nodo(vectores=base, prof=prof)\n",
    "    else:\n",
    "        vector = np.random.randn(base.shape[1])\n",
    "        unitario = vector / np.linalg.norm(vector)\n",
    "        escalares = np.dot(unitario, base.T)\n",
    "        proyecciones = escalares / np.linalg.norm(base)\n",
    "        mediana = np.median(proyecciones)\n",
    "        (izq, der) = (np.percentile(proyecciones, 100*(1/2 - alfa)), np.percentile(proyecciones, 100*(1/2 + alfa)))\n",
    "        # Dividimos la base\n",
    "        base_izq = base[proyecciones < der]\n",
    "        base_der = base[proyecciones >= izq]\n",
    "        # Y hacemos las llamadas recursivas\n",
    "        A_izq = construye_arbol_spill(base_izq, m0, prof + 1, alfa)\n",
    "        A_der = construye_arbol_spill(base_der, m0, prof + 1, alfa)\n",
    "\n",
    "        # Una vez terminadas, devolvemos el nodo con todo lo calculado en la función\n",
    "        return Nodo(mediana=mediana, unitario=unitario, prof=prof, izq=A_izq, der=A_der)"
   ]
  },
  {
   "cell_type": "code",
   "execution_count": 67,
   "id": "8bb4c6bbf92ce371",
   "metadata": {
    "ExecuteTime": {
     "end_time": "2025-03-02T18:30:10.574838Z",
     "start_time": "2025-03-02T18:30:10.549709Z"
    }
   },
   "outputs": [],
   "source": [
    "class BranchCut:\n",
    "    def __init__(self, vectors, m0):\n",
    "        self.m0 = m0\n",
    "        self.vectors = vectors # en formato array bidimensional de numpy\n",
    "        # self.kdTree = construye_arbol_medianas(self.vectors, m0, 0)\n",
    "        # self.betaTree = construye_arbol_random(self.vectors, m0, 0)\n",
    "        self.spillTree = construye_arbol_spill(self.vectors, m0, 0, 0.2)\n",
    "\n",
    "    def search(self, query, random=False):\n",
    "        # nodo = self.kdTree\n",
    "        # nodo_beta = self.betaTree\n",
    "        nodo_spill = self.spillTree\n",
    "        if random:\n",
    "        #     opcion = input(\"Escribe el tipo de busqueda que quieras realizar (beta / spill)\")\n",
    "        #     if opcion == \"beta\":\n",
    "        #    return self.search_derrotista(query, nodo_beta)\n",
    "        #     elif opcion == \"spill\":\n",
    "                return self.search_derrotista(query, nodo_spill)\n",
    "        #     else:\n",
    "        #         return \"Opcion de busqueda incorrecta\"\n",
    "        return self.search_kd(query, nodo_beta, [], None,0)\n",
    "\n",
    "    def search_kd(self, q, nodo, recorrido, opt,m):\n",
    "        if nodo.es_hoja():\n",
    "            distancias = [euclidiana(q,v) for v in nodo.vectores]\n",
    "            if not distancias:\n",
    "                nodo.visitado = True\n",
    "                padre = recorrido[-1]\n",
    "                return self.search_kd(q, padre, recorrido[:-1], opt,m + 1)\n",
    "            min_local = (nodo.vectores[np.argmin(distancias)], np.min(distancias))\n",
    "            if opt is None or opt[1] > min_local[1]:\n",
    "                opt = min_local\n",
    "            nodo.visitado = True\n",
    "            padre = recorrido[-1]\n",
    "            return self.search_kd(q, padre, recorrido[:-1], opt,m + 1)\n",
    "        else:\n",
    "            if not nodo.izq.visitado and not nodo.der.visitado:\n",
    "                recorrido.append(nodo)\n",
    "                index = nodo.prof\n",
    "                comprueba_opt = opt is None or np.abs(q[nodo.prof] - nodo.mediana) < opt[1] \n",
    "                if comprueba_opt:\n",
    "                    if (q[index] < nodo.mediana):\n",
    "                        print(m)\n",
    "                        return self.search_kd(q, nodo.izq, recorrido, opt,m + 1)\n",
    "                    else:\n",
    "                        print(m)\n",
    "                        return self.search_kd(q, nodo.der, recorrido, opt,m + 1)\n",
    "                else:\n",
    "                    nodo.visitado = True\n",
    "                    padre = recorrido[-1]\n",
    "                    print(m)\n",
    "                    return self.search_kd(q, padre, recorrido[:-1], opt, m + 1)\n",
    "            else:\n",
    "                if not nodo.izq.visitado and np.abs(q[nodo.prof] - nodo.mediana) < opt[1]:\n",
    "                    recorrido.append(nodo)\n",
    "                    print(m)\n",
    "                    return self.search_kd(q, nodo.izq, recorrido, opt,m + 1)\n",
    "                elif not nodo.der.visitado and np.abs(q[nodo.prof] - nodo.mediana) < opt[1]:\n",
    "                    recorrido.append(nodo)\n",
    "                    print(m)\n",
    "                    return self.search_kd(q, nodo.der, recorrido, opt,m + 1)\n",
    "                else:\n",
    "                    if not recorrido:\n",
    "                        return opt, m\n",
    "                    nodo.visitado = True\n",
    "                    padre = recorrido[-1]\n",
    "                    print(m)\n",
    "                    return self.search_kd(q, padre, recorrido[:-1], opt, m + 1)\n",
    "\n",
    "    def search_derrotista(self, query, nodo):\n",
    "        if nodo.es_hoja():\n",
    "            distancias = [euclidiana(query,v) for v in nodo.vectores]\n",
    "            min_local = (self.vectors[np.argmin(distancias)], np.min(distancias))\n",
    "            return min_local\n",
    "        else:\n",
    "            proyeccion = np.dot(nodo.unitario, query.T) / np.linalg.norm(query)\n",
    "            if nodo.beta:\n",
    "                if proyeccion < nodo.beta:\n",
    "                    return self.search_derrotista(query, nodo.izq)\n",
    "                else:\n",
    "                    return self.search_derrotista(query, nodo.der)\n",
    "            else:\n",
    "                if proyeccion < nodo.mediana:\n",
    "                    return self.search_derrotista(query, nodo.izq)\n",
    "                else:\n",
    "                    return self.search_derrotista(query, nodo.der)"
   ]
  },
  {
   "cell_type": "code",
   "execution_count": 68,
   "id": "e35d29d410e851de",
   "metadata": {
    "ExecuteTime": {
     "end_time": "2025-03-02T18:30:10.600825Z",
     "start_time": "2025-03-02T18:30:10.592564Z"
    }
   },
   "outputs": [],
   "source": [
    "def imprimir_arbol(nodo, nivel=0):\n",
    "    if nodo is None:\n",
    "        return\n",
    "    print(\"  \" * nivel + f\"Nodo (prof: {nodo.prof}, unitario: {nodo.unitario}, vectores: {nodo.vectores}, mediana: {nodo.mediana})\")\n",
    "    imprimir_arbol(nodo.izq, nivel + 1)\n",
    "    imprimir_arbol(nodo.der, nivel + 1)"
   ]
  },
  {
   "cell_type": "code",
   "execution_count": null,
   "id": "7c5547dd",
   "metadata": {},
   "outputs": [],
   "source": [
    "def potencial(base, q):\n",
    "    mindist = np.argmin([euclidiana(q, b) for b in base])\n",
    "    return sum([euclidiana(q,b) / mindist for b in base]) / len(base)"
   ]
  },
  {
   "cell_type": "code",
   "execution_count": null,
   "id": "7ee02079",
   "metadata": {},
   "outputs": [],
   "source": [
    "class CoverTree:\n",
    "    def __init__(self, vector, nivel, hijos = None):\n",
    "        self.vector = vector\n",
    "        self.nivel = nivel\n",
    "        self.hijos = hijos if hijos is not None else []\n",
    "    \n",
    "    def igual(self, cover):\n",
    "        return np.all(self.vector == cover.vector)\n",
    "\n",
    "def inserta(p, v):\n",
    "    if euclidiana(p.vector, v) > 2 ** p.nivel:\n",
    "        while euclidiana(p.vector, v) > 4 ** p.nivel:\n",
    "            q = p.hijos.pop()\n",
    "            p_prima = CoverTree(q.vector, q.nivel + 1, [p])\n",
    "            p = p_prima\n",
    "        raiz = CoverTree(v, p.nivel + 1)\n",
    "        raiz.hijos.append(p)\n",
    "        return raiz\n",
    "    return insertaAux(p, v)\n",
    "\n",
    "def insertaAux(p, v):\n",
    "    for q in p.hijos:\n",
    "        if euclidiana(q.vector, v) <= 2 ** p.nivel:\n",
    "            q_prima = insertaAux(q, v)\n",
    "            p.hijos = [q_prima if x.igual(q) else x for x in p.hijos]\n",
    "            return p\n",
    "    x = CoverTree(v, p.nivel - 1, [])\n",
    "    p.hijos.append(x)\n",
    "    return p\n",
    "\n",
    "def maxdist(cover): \n",
    "    if len(cover.hijos) > 0:\n",
    "        return max([euclidiana(cover.vector, h.vector) for h in cover.hijos])  \n",
    "    else:\n",
    "        return 0\n",
    "\n",
    "def buscarVecino(p, q, y = None):\n",
    "    if y is None: \n",
    "        y = p.vector\n",
    "    for c in sorted(p.hijos, key = lambda t : euclidiana(q, t.vector)):\n",
    "        if euclidiana(y,q) > euclidiana(y, c.vector) - maxdist(p):\n",
    "            y = buscarVecino(c, q, y)\n",
    "    return y"
   ]
  },
  {
   "cell_type": "code",
   "execution_count": null,
   "id": "5ceb1bd6",
   "metadata": {},
   "outputs": [],
   "source": [
    "def buscarVecinoExacto(p, q):\n",
    "    mejor = p\n",
    "    stack = [p]\n",
    "    distancia_mejor = euclidiana(mejor.vector, q)\n",
    "\n",
    "    while stack:\n",
    "        nodo = stack.pop()\n",
    "        dist_nodo = euclidiana(nodo.vector, q)\n",
    "\n",
    "        if dist_nodo < distancia_mejor:\n",
    "            mejor = nodo\n",
    "            distancia_mejor = dist_nodo\n",
    "\n",
    "        for hijo in nodo.hijos:\n",
    "            dist_hijo = euclidiana(hijo.vector, q)\n",
    "            if dist_hijo < distancia_mejor:\n",
    "                stack.append(hijo)\n",
    "\n",
    "    return mejor.vector"
   ]
  },
  {
   "cell_type": "code",
   "execution_count": null,
   "id": "9b80a504",
   "metadata": {},
   "outputs": [],
   "source": [
    "def imprimirCover(cover, i = 0):\n",
    "        print(\" \" * i + \"vector:\" + str(cover.vector))\n",
    "        print(\" \" * i + \"nivel: \" + str(cover.nivel))\n",
    "        print(\" \" * i + \"hijos: \" + str([h.vector for h in cover.hijos]))\n",
    "        for h in cover.hijos:\n",
    "            imprimirCover(h, i + 1)\n"
   ]
  },
  {
   "cell_type": "code",
   "execution_count": null,
   "id": "d0780dc0",
   "metadata": {},
   "outputs": [],
   "source": [
    "imprimirCover(cover)\n",
    "all(cover.hijos[0].hijos[0].vector == base[2])"
   ]
  },
  {
   "cell_type": "code",
   "execution_count": 88,
   "id": "6ea0b144ef2d0c39",
   "metadata": {},
   "outputs": [],
   "source": [
    "def create_hyperplane_lsh(base, l, L):\n",
    "    hashes = []\n",
    "    signo = lambda v, h : np.dot(v, h) / np.abs(np.dot(v, h))\n",
    "    buckets = [{} for _ in range(L)]\n",
    "    for _ in range(L):\n",
    "        hashes.append([])\n",
    "        for _ in range(l):\n",
    "            hashes[-1].append(lambda v : signo(v, np.random.rand(base.shape[1])))\n",
    "    for b in base:\n",
    "        for i in range(L):\n",
    "            bk = tuple([hashes[i][j](b) for j in range(l)])\n",
    "            if bk not in buckets[i].keys():\n",
    "                buckets[i][bk] = [b]\n",
    "            else:\n",
    "                buckets[i][bk].append(b)\n",
    "    return hashes, buckets\n"
   ]
  },
  {
   "cell_type": "code",
   "execution_count": null,
   "id": "136907fd",
   "metadata": {},
   "outputs": [],
   "source": [
    "def cross_polytope_lsh(base, l, L):\n",
    "    hashes = []\n",
    "    canon = np.identity(base.shape[1])\n",
    "    rot = lambda v, R : canon[np.argmin([e - np.dot(R, v) / np.linalg.norm(np.dot(R, v)) for e in canon]) - 1]\n",
    "    buckets = [{} for _ in range(L)]\n",
    "    for _ in range(L):\n",
    "        hashes.append([])\n",
    "        for _ in range(l):\n",
    "            hashes[-1].append(lambda v : tuple(rot(v, np.random.normal(0,1,(base.shape[1], base.shape[1])))))\n",
    "    for b in base:\n",
    "        for i in range(L):\n",
    "            bk = tuple([hashes[i][j](b) for j in range(l)])\n",
    "            if bk not in buckets[i].keys():\n",
    "                buckets[i][bk] = [b]\n",
    "            else:\n",
    "                buckets[i][bk].append(b)\n",
    "    return hashes, buckets"
   ]
  },
  {
   "cell_type": "code",
   "execution_count": null,
   "id": "0f6a8db7",
   "metadata": {},
   "outputs": [],
   "source": [
    "def cross_polytope_lsh(base, l, L):\n",
    "    d = base.shape[1]\n",
    "    canon = np.identity(d)  # canonical basis vectors, used for quantization\n",
    "    buckets = [{} for _ in range(L)]\n",
    "    hashes = []\n",
    "\n",
    "    def generate_rotations():\n",
    "        # Generate l random rotation matrices\n",
    "        return [np.random.normal(0, 1, (d, d)) for _ in range(l)]\n",
    "\n",
    "    def hash_vector(v, R_list):\n",
    "        # Project and select direction closest to canonical basis vector\n",
    "        return tuple(\n",
    "            np.argmin(np.abs(R @ v)) for R in R_list\n",
    "        )\n",
    "\n",
    "    for _ in range(L):\n",
    "        R_list = generate_rotations()\n",
    "        hashes.append(R_list)\n",
    "        bucket = {}\n",
    "        for b in base:\n",
    "            key = hash_vector(b, R_list)\n",
    "            if key not in bucket:\n",
    "                bucket[key] = []\n",
    "            bucket[key].append(b)\n",
    "        buckets[_] = bucket\n",
    "\n",
    "    return hashes, buckets"
   ]
  },
  {
   "cell_type": "code",
   "execution_count": null,
   "id": "e556ba36",
   "metadata": {},
   "outputs": [],
   "source": [
    "def alfabeta_lsh(base, l, L, r):\n",
    "    hashes = []\n",
    "    func = lambda v, alfa, beta : np.floor((np.dot(alfa, v) + beta) / r)\n",
    "    buckets = [{} for _ in range(L)]\n",
    "    for _ in range(L):\n",
    "        hashes.append([])\n",
    "        for _ in range(l):\n",
    "            hashes[-1].append(lambda v : func(v, np.random.normal(0, 1, base.shape[1]), np.random.randint(r)))\n",
    "    for b in base:\n",
    "        for i in range(L):\n",
    "            bk = tuple([hashes[i][j](b) for j in range(l)])\n",
    "            if bk not in buckets[i].keys():\n",
    "                buckets[i][bk] = [b]\n",
    "            else:\n",
    "                buckets[i][bk].append(b)\n",
    "    return hashes, buckets"
   ]
  },
  {
   "cell_type": "code",
   "execution_count": 98,
   "id": "1f51dd26",
   "metadata": {},
   "outputs": [],
   "source": [
    "def search_LSH(q, buckets, hashes, distancia):\n",
    "    qbk = [tuple([h(q) for h in ls]) for ls in hashes]\n",
    "    print(qbk)\n",
    "    zonas = [bucket[qbki] for qbki in qbk for bucket in buckets]\n",
    "    print(zonas)\n",
    "    mejores = [zona[np.argmin([distancia(q,z) for z in zona])] for zona in zonas]\n",
    "    print(mejores)\n",
    "    return mejores[np.argmin([distancia(q, d) for d in mejores])]"
   ]
  },
  {
   "cell_type": "code",
   "execution_count": 4,
   "id": "1dd7ba02",
   "metadata": {},
   "outputs": [],
   "source": [
    "def voraz(G, q, k, s):\n",
    "    Q = [s]\n",
    "    visitados = [] # para implementar Vamana\n",
    "    while True:\n",
    "        S = set()\n",
    "        for u in Q:\n",
    "            S = S | set(G.neighbors(u))\n",
    "        v = min([(n, euclidiana(q, attr['vector'])) for n, attr in G.nodes(data=True) if n in S], key = lambda x: x[1])[0]\n",
    "        visitados.append(v)\n",
    "        if v == Q[-1]:\n",
    "            return Q, visitados\n",
    "        Q.append(v)\n",
    "        if len(Q) > k:\n",
    "            Q.pop(0) # en la implementación, al contrario que en el libro, ordeno los nodos según la distancia en orden ascendente y al superar los k elementos elimino el primero\n",
    "        "
   ]
  },
  {
   "cell_type": "code",
   "execution_count": 4,
   "id": "706186da",
   "metadata": {},
   "outputs": [],
   "source": [
    "def GrafoDelaunay(base):\n",
    "    D = nx.Graph()\n",
    "    triangulacion = Delaunay(base)\n",
    "    for i, u in enumerate(base):\n",
    "        D.add_node(i, vector = u)\n",
    "    for t in triangulacion.simplices:\n",
    "        edges = [(t[i], t[j]) for i in range(3) for j in range(i+1, 3)]\n",
    "        D.add_edges_from(edges)\n",
    "    return D"
   ]
  },
  {
   "cell_type": "code",
   "execution_count": 81,
   "id": "6eef9fe6",
   "metadata": {},
   "outputs": [],
   "source": [
    "def kNNGraph(base, k):\n",
    "    G = nx.DiGraph()\n",
    "    for i, b in enumerate(base):\n",
    "        G.add_node(i, vector = b)\n",
    "        dist = [euclidiana(b, u) for u in base]\n",
    "        nn = [(i, j) for j in np.argsort(dist)[1:k + 1]]\n",
    "        G.add_edges_from(list(nn))\n",
    "    return G"
   ]
  },
  {
   "cell_type": "code",
   "execution_count": null,
   "id": "af03b322",
   "metadata": {},
   "outputs": [],
   "source": [
    "def P_delaunay(D, base):\n",
    "    # modelo probabiistico que añade las aristas de largo alcance en 2 dimensiones\n",
    "    delta_u = np.max([euclidiana(u, v) for u in base for v in base])\n",
    "    delta_l = np.min([euclidiana(u, v) for u in base for v in base if euclidiana(u,v) > 0])\n",
    "    for i, attr in D.nodes(data=True):\n",
    "        u = attr.get('vector')\n",
    "        alpha = np.random.uniform(np.log(delta_l), np.log(delta_u))\n",
    "        theta = np.random.uniform(0, 2*np.pi)\n",
    "\n",
    "        z = np.array([np.exp(alpha) * np.cos(theta), np.exp(alpha) * np.sin(theta)])\n",
    "        u_prima = u + z\n",
    "        \n",
    "        j = min([(k, euclidiana(u_prima, attr2['vector'])) for k, attr2 in D.nodes(data=True) if euclidiana(u, attr2['vector']) > 0], key = lambda x : x[1])[0]\n",
    "        D.add_edge(i, j)\n",
    "    return D"
   ]
  },
  {
   "cell_type": "code",
   "execution_count": null,
   "id": "c87b2ee9",
   "metadata": {},
   "outputs": [],
   "source": [
    "pg = P_delaunay(D, base)\n",
    "nx.draw(pg, with_labels=True, node_color='lightblue', edge_color='gray')\n",
    "plt.show()"
   ]
  },
  {
   "cell_type": "code",
   "execution_count": null,
   "id": "bfe0d123",
   "metadata": {},
   "outputs": [],
   "source": [
    "def NSW(base, k):\n",
    "    D = nx.complete_graph(k)\n",
    "    for i in range(k):\n",
    "        D.nodes[i]['vector'] = base[i]\n",
    "    vectores_grafo = np.array(base[:k])\n",
    "    for i, b in enumerate(base[k:]):\n",
    "        D.add_node(i + k, vector = b)\n",
    "        distancias = np.linalg.norm(vectores_grafo - b, axis=1)\n",
    "        if(i == 0):\n",
    "             D.add_edges_from((i + k, j) for j in range(k))\n",
    "        else:\n",
    "            D.add_edges_from((i + k, j) for j in np.argpartition(distancias, k)[:k])\n",
    "        vectores_grafo = np.vstack([vectores_grafo, b])\n",
    "    return D "
   ]
  },
  {
   "cell_type": "code",
   "execution_count": null,
   "id": "2fb77a61",
   "metadata": {},
   "outputs": [],
   "source": [
    "base = np.random.randint(-500,500,(10000,20))"
   ]
  },
  {
   "cell_type": "code",
   "execution_count": null,
   "id": "4c3589fd",
   "metadata": {},
   "outputs": [],
   "source": [
    "hg = NSW(base,5)"
   ]
  },
  {
   "cell_type": "code",
   "execution_count": null,
   "id": "0ed6eae7",
   "metadata": {},
   "outputs": [],
   "source": [
    "iteraciones = 1000\n",
    "error = 0\n",
    "for _ in range(iteraciones):\n",
    "    q = np.random.randint(-50,50,20)\n",
    "    mindist = np.min([euclidiana(q, b) for b in base])\n",
    "    nn = voraz(hg, q, 2,np.random.randint(0,len(hg.nodes())))[0][0]\n",
    "    dist = euclidiana(q, list(hg.nodes(data = True)[nn][\"vector\"]))\n",
    "    if dist == mindist:\n",
    "        error+=1\n",
    "    error += (1 - (dist - mindist) / (dist + mindist))\n",
    "error / iteraciones\n",
    "# 0.9764298490277511"
   ]
  },
  {
   "cell_type": "code",
   "execution_count": null,
   "id": "33b91d96",
   "metadata": {},
   "outputs": [],
   "source": [
    "q = np.random.randint(0,10,2)\n",
    "nn = voraz(hg, q, 2,np.random.randint(0,len(hg.nodes())))[0][0]\n",
    "euclidiana(q, list(hg.nodes(data = True)[nn][\"vector\"])), min([euclidiana(q, u) for u in base])"
   ]
  },
  {
   "cell_type": "code",
   "execution_count": 28,
   "id": "fc17f968",
   "metadata": {},
   "outputs": [],
   "source": [
    "def HeuristicEdges(grafo, nodo, candidatos, m):\n",
    "    # Recibe un grafo sin aristas y las asigna siguiendo la heuristica del articulo del HNSW\n",
    "    nAristas = [(nodo, candidatos[0])]\n",
    "    for n in candidatos[1:]:\n",
    "        dist = euclidiana(grafo.nodes()[nodo]['vector'], grafo.nodes()[n]['vector'])\n",
    "        ma = list(map(lambda x : x[1], nAristas))\n",
    "        comp = np.all([dist < euclidiana(grafo.nodes()[n]['vector'], grafo.nodes()[c]['vector'])  for c in ma])\n",
    "        if comp:\n",
    "            nAristas.append((nodo,n))\n",
    "        if len(nAristas) == m: \n",
    "            break\n",
    "    return nAristas"
   ]
  },
  {
   "cell_type": "code",
   "execution_count": null,
   "id": "9efe1c1c",
   "metadata": {},
   "outputs": [],
   "source": [
    "def HNSW_base(base, m, ml, efConstruction, heuristic = False):\n",
    "    c = 0\n",
    "    capas = {n: np.floor(-np.log(np.random.uniform(0,1)) * ml) for n in range(base.shape[0])}\n",
    "    L = max(list(capas.values()))\n",
    "    grafos = [nx.Graph() for _ in range(int(L))]\n",
    "    for c in reversed(range(int(L))):\n",
    "        base_c = np.array([base[i] for i in range(base.shape[0]) if capas[i] >= c])\n",
    "        if not heuristic:\n",
    "            grafos[c][0] =  NSW(base_c, m)\n",
    "        else:   \n",
    "            aristas = []\n",
    "            for i, u in enumerate(base_c):\n",
    "                grafos[c].add_node(i, vector = u)\n",
    "                candidatos = list(map(lambda x : x[0],sorted([(j, euclidiana(u, v)) \n",
    "                            for j, v in enumerate(base_c[:i]) if euclidiana(u, v)>0], \n",
    "                            key = lambda x : x[1])))[:min(i,efConstruction)]\n",
    "                if candidatos:\n",
    "                    for a in HeuristicEdges(grafos[c], i, candidatos, m):\n",
    "                        aristas.append(a)\n",
    "            grafos[c].add_edges_from(aristas)\n",
    "    return grafos, L, c\n",
    "        "
   ]
  },
  {
   "cell_type": "code",
   "execution_count": 23,
   "id": "f8987e22",
   "metadata": {},
   "outputs": [],
   "source": [
    "def HNSW(base, m, ml, efConstruction, heuristic = False):\n",
    "    capas = {n: np.floor(-np.log(np.random.uniform(0,1)) * ml).astype(int) for n in range(base.shape[0])}\n",
    "    L = max(list(capas.values()))\n",
    "    grafos = [nx.Graph() for _ in range(int(L))]\n",
    "    vectores = [np.array([]) for _ in range(int(L))]\n",
    "    for i in range(len(base)):\n",
    "        for l in range(capas[i]):\n",
    "            grafos[l].add_node(i)\n",
    "            grafos[l].nodes[i][\"vector\"] = base[i]\n",
    "            if grafos[l].number_of_nodes() <= m + 1:\n",
    "                    grafos[l].add_edges_from([(i, j) for j in list(grafos[l].nodes()) if i != j])\n",
    "            else:\n",
    "                if not heuristic:\n",
    "                    distancias = np.linalg.norm(vectores[l] - base[i], axis=1)\n",
    "                    grafos[l].add_edges_from((i, j) for j in np.argpartition(distancias, m)[:m])\n",
    "                else:\n",
    "                    aristas = []\n",
    "                    candidatos =  list(map(lambda x : x[0],sorted([(j, euclidiana(base[i], v)) \n",
    "                                for j, v in [(n ,attr[\"vector\"]) for n, attr in grafos[l].nodes(data=True)]], \n",
    "                                key = lambda x : x[1])))[:min(len(grafos[l].nodes()), efConstruction)]\n",
    "                    if candidatos:\n",
    "                        for a in HeuristicEdges(grafos[l], i, candidatos, m):\n",
    "                            aristas.append(a)\n",
    "            if vectores[l].shape[0] == 0:\n",
    "                vectores[l] = base[i]\n",
    "            else:\n",
    "                vectores[l] = np.vstack([vectores[l], base[i]])        \n",
    "    return grafos, L"
   ]
  },
  {
   "cell_type": "code",
   "execution_count": null,
   "id": "a36d23be",
   "metadata": {},
   "outputs": [],
   "source": [
    "if np.array([]).shape:\n",
    "    print(1)"
   ]
  },
  {
   "cell_type": "code",
   "execution_count": null,
   "id": "4d59da7a",
   "metadata": {},
   "outputs": [],
   "source": [
    "base = np.random.randint(0,10,(2000000,20))\n",
    "hnsw, L = HNSW(base,7,1,30, heuristic = False)\n",
    "print(hnsw[int(L) - 7].nodes(data=True))\n"
   ]
  },
  {
   "cell_type": "code",
   "execution_count": null,
   "id": "75338bdf",
   "metadata": {},
   "outputs": [],
   "source": [
    "nx.draw(hnsw[int(L - 1)], with_labels=True, node_color='lightblue', edge_color='gray')\n",
    "plt.show()"
   ]
  },
  {
   "cell_type": "code",
   "execution_count": null,
   "id": "cc92d4f8",
   "metadata": {},
   "outputs": [],
   "source": [
    "def vorazHNSW(hnsw, L, q):\n",
    "    search = np.random.choice(hnsw[int(L - 1)].nodes())\n",
    "    for l in range(int(L) - 1, 0, -1):\n",
    "        print(l)\n",
    "        if len(hnsw[l].nodes()) <= 1:\n",
    "            continue\n",
    "        search = voraz(hnsw[l], q, 2, search)[0][1]\n",
    "    return search"
   ]
  },
  {
   "cell_type": "code",
   "execution_count": 25,
   "id": "a30f501f",
   "metadata": {},
   "outputs": [],
   "source": [
    "import numpy as np\n",
    "import faiss\n",
    "\n",
    "base = np.random.randint(-500,500,(1000, 5)).astype(np.float32)\n",
    "q = np.random.randint(-500,500,(1,5)).astype(np.float32)\n",
    "index = faiss.IndexHNSWFlat(base.shape[1], 5)\n",
    "index.add(base)\n",
    "\n",
    "index.hnsw.efConstruction = 20\n",
    "index.hnsw.efSearch = 1"
   ]
  },
  {
   "cell_type": "code",
   "execution_count": 35,
   "id": "eaab1b18",
   "metadata": {},
   "outputs": [
    {
     "data": {
      "text/plain": [
       "[<matplotlib.lines.Line2D at 0x249d48a0560>]"
      ]
     },
     "execution_count": 35,
     "metadata": {},
     "output_type": "execute_result"
    },
    {
     "data": {
      "image/png": "[encoded data removed]",
      "text/plain": [
       "<Figure size 640x480 with 1 Axes>"
      ]
     },
     "metadata": {},
     "output_type": "display_data"
    }
   ],
   "source": [
    "import time\n",
    "import faiss\n",
    "base = np.random.randint(0,10,(1000,5))\n",
    "valores = []\n",
    "tiempos = []\n",
    "for i in range(2,20):\n",
    "    inicio = time.time()\n",
    "    index = HNSW(base, i, 1, 10, heuristic = True)\n",
    "    fin = time.time()\n",
    "    valores.append(i)\n",
    "    tiempos.append(fin - inicio)\n",
    "    \n",
    "plt.xlabel('Valor de L')\n",
    "plt.ylabel('Tiempo de creación índice')\n",
    "plt.plot(valores, tiempos)\n"
   ]
  },
  {
   "cell_type": "code",
   "execution_count": 33,
   "id": "5010db0f",
   "metadata": {},
   "outputs": [
    {
     "ename": "NameError",
     "evalue": "name 'q' is not defined",
     "output_type": "error",
     "traceback": [
      "\u001b[1;31m---------------------------------------------------------------------------\u001b[0m",
      "\u001b[1;31mNameError\u001b[0m                                 Traceback (most recent call last)",
      "Cell \u001b[1;32mIn[33], line 3\u001b[0m\n\u001b[0;32m      1\u001b[0m index_exact \u001b[38;5;241m=\u001b[39m faiss\u001b[38;5;241m.\u001b[39mIndexFlatL2(base\u001b[38;5;241m.\u001b[39mshape[\u001b[38;5;241m1\u001b[39m])\n\u001b[0;32m      2\u001b[0m index_exact\u001b[38;5;241m.\u001b[39madd(base)\n\u001b[1;32m----> 3\u001b[0m exact_dist, exact_ind \u001b[38;5;241m=\u001b[39m index_exact\u001b[38;5;241m.\u001b[39msearch(q, \u001b[38;5;241m1\u001b[39m)\n",
      "\u001b[1;31mNameError\u001b[0m: name 'q' is not defined"
     ]
    }
   ],
   "source": [
    "index_exact = faiss.IndexFlatL2(base.shape[1])\n",
    "index_exact.add(base)\n",
    "exact_dist, exact_ind = index_exact.search(q, 1) "
   ]
  },
  {
   "cell_type": "code",
   "execution_count": 27,
   "id": "1e0445ad",
   "metadata": {},
   "outputs": [
    {
     "data": {
      "text/plain": [
       "1.0"
      ]
     },
     "execution_count": 27,
     "metadata": {},
     "output_type": "execute_result"
    }
   ],
   "source": [
    "for _ in range(100000):\n",
    "    d, i = index.search(q, 1)\n",
    "exact_dist[0][0] / d[0][0]"
   ]
  },
  {
   "cell_type": "code",
   "execution_count": 109,
   "id": "2fac9ef4",
   "metadata": {},
   "outputs": [
    {
     "ename": "NameError",
     "evalue": "name 'euclidiana' is not defined",
     "output_type": "error",
     "traceback": [
      "\u001b[1;31m---------------------------------------------------------------------------\u001b[0m",
      "\u001b[1;31mNameError\u001b[0m                                 Traceback (most recent call last)",
      "Cell \u001b[1;32mIn[109], line 1\u001b[0m\n\u001b[1;32m----> 1\u001b[0m np\u001b[38;5;241m.\u001b[39mmin([euclidiana(q,b) \u001b[38;5;28;01mfor\u001b[39;00m b \u001b[38;5;129;01min\u001b[39;00m base]) \u001b[38;5;241m-\u001b[39m exact_dist[\u001b[38;5;241m0\u001b[39m][\u001b[38;5;241m0\u001b[39m]\n",
      "\u001b[1;31mNameError\u001b[0m: name 'euclidiana' is not defined"
     ]
    }
   ],
   "source": [
    "np.min([euclidiana(q,b) for b in base]) - exact_dist[0][0]"
   ]
  },
  {
   "cell_type": "code",
   "execution_count": null,
   "id": "32c36960",
   "metadata": {},
   "outputs": [],
   "source": [
    "1 -((d[0][0] - np.min([euclidiana(q,b) for b in base])) / (np.min([euclidiana(q,b) for b in base]) + d[0][0]))"
   ]
  },
  {
   "cell_type": "code",
   "execution_count": null,
   "id": "f126c3f8",
   "metadata": {},
   "outputs": [],
   "source": [
    "q = np.random.randint(0, 10, 20).astype(float)\n",
    "print(L)\n",
    "euclidiana(vorazHNSW(hnsw, L, q), q), min([euclidiana(q, b) for b in base])"
   ]
  },
  {
   "cell_type": "code",
   "execution_count": null,
   "id": "8cd06d32",
   "metadata": {},
   "outputs": [],
   "source": [
    "np.min([euclidiana(q, u) for u in base])"
   ]
  },
  {
   "cell_type": "code",
   "execution_count": null,
   "id": "65935b74",
   "metadata": {},
   "outputs": [],
   "source": [
    "def RNG(base):\n",
    "    rng = nx.Graph()\n",
    "    for n, b in enumerate(base):\n",
    "        rng.add_node(n, vector = b)\n",
    "    for i, u in enumerate(base):\n",
    "        for j, v in enumerate(base):\n",
    "            if euclidiana(u,v) > 0:\n",
    "                comp = np.all([euclidiana(u, v) < max(euclidiana(u, w), euclidiana(v, w)) for w in base if euclidiana(u, w) > 0 and euclidiana(v, w) > 0])\n",
    "                if comp:\n",
    "                    rng.add_edge(i, j)\n",
    "    return rng"
   ]
  },
  {
   "cell_type": "code",
   "execution_count": null,
   "id": "c7535d1a",
   "metadata": {},
   "outputs": [],
   "source": [
    "rng = RNG(base)"
   ]
  },
  {
   "cell_type": "code",
   "execution_count": null,
   "id": "c00c6a06",
   "metadata": {},
   "outputs": [],
   "source": [
    "nx.draw(rng, with_labels=True, node_color='red', edge_color='gray')\n",
    "plt.show()"
   ]
  },
  {
   "cell_type": "code",
   "execution_count": null,
   "id": "999896d3",
   "metadata": {},
   "outputs": [],
   "source": [
    "def alphaSNG(base, alpha = 1):\n",
    "    sng = nx.DiGraph()\n",
    "    edges = []\n",
    "    for i, u in enumerate(base):\n",
    "        sng.add_node(i, vector = u)\n",
    "        distancias = sorted([(j, v, euclidiana(u, v)) for j, v in enumerate(base)], key = lambda x : x[2])[2:]\n",
    "        while distancias:\n",
    "            j = distancias[0][0]\n",
    "            v = distancias[0][1]\n",
    "            edges.append((i, j))\n",
    "            distancias = sorted([(j, w, d) for j, w, d in distancias if euclidiana(u, w) < alpha * euclidiana(v, w)], key = lambda x : x[2])\n",
    "    sng.add_edges_from(edges)\n",
    "    return sng"
   ]
  },
  {
   "cell_type": "code",
   "execution_count": null,
   "id": "e8185c24",
   "metadata": {},
   "outputs": [],
   "source": [
    "sng = alphaSNG(base)\n",
    "nx.draw(sng, with_labels=True, node_color='red', edge_color='gray')\n",
    "plt.show()"
   ]
  },
  {
   "cell_type": "code",
   "execution_count": 11,
   "id": "945cee7f",
   "metadata": {},
   "outputs": [],
   "source": [
    "def Vamana(base, r, L, alpha):\n",
    "    V = nx.random_regular_graph(d=r + 1, n=len(base))\n",
    "    newEdges = []\n",
    "    for i, b in enumerate(base):\n",
    "        V.nodes[i]['vector'] = b\n",
    "    for i, attr in V.nodes(data=True):\n",
    "        u = attr['vector']\n",
    "        visitados = voraz(V, u, L, np.random.randint(len(base)))[1]\n",
    "        distancias = sorted([(j, attr['vector'], euclidiana(u, attr['vector'])) for j, attr in V.nodes(data=True) if j in visitados], key = lambda x : x[2])[2:]\n",
    "        while distancias:\n",
    "            j = distancias[0][0]\n",
    "            v = distancias[0][1]\n",
    "            newEdges.append((i, j))\n",
    "            distancias = sorted([(j, w, d) for j, w, d in distancias if euclidiana(u, w) < alpha * euclidiana(v, w)], key = lambda x : x[2])\n",
    "    V.add_edges_from(newEdges)\n",
    "    return V"
   ]
  },
  {
   "cell_type": "code",
   "execution_count": 31,
   "id": "df64b697",
   "metadata": {},
   "outputs": [
    {
     "data": {
      "text/plain": [
       "[<matplotlib.lines.Line2D at 0x18d7d7f9340>]"
      ]
     },
     "execution_count": 31,
     "metadata": {},
     "output_type": "execute_result"
    },
    {
     "ename": "",
     "evalue": "",
     "output_type": "error",
     "traceback": [
      "\u001b[1;31mThe Kernel crashed while executing code in the current cell or a previous cell. \n",
      "\u001b[1;31mPlease review the code in the cell(s) to identify a possible cause of the failure. \n",
      "\u001b[1;31mClick <a href='https://aka.ms/vscodeJupyterKernelCrash'>here</a> for more info. \n",
      "\u001b[1;31mView Jupyter <a href='command:jupyter.viewOutput'>log</a> for further details."
     ]
    }
   ],
   "source": [
    "x = [1,2,3,4,5]\n",
    "y = [5,1,8,3,2]\n",
    "plt.plot(x,y)"
   ]
  },
  {
   "cell_type": "code",
   "execution_count": 20,
   "id": "bfecbc95",
   "metadata": {},
   "outputs": [
    {
     "ename": "KeyboardInterrupt",
     "evalue": "",
     "output_type": "error",
     "traceback": [
      "\u001b[1;31m---------------------------------------------------------------------------\u001b[0m",
      "\u001b[1;31mKeyboardInterrupt\u001b[0m                         Traceback (most recent call last)",
      "Cell \u001b[1;32mIn[20], line 8\u001b[0m\n\u001b[0;32m      6\u001b[0m \u001b[38;5;28;01mfor\u001b[39;00m i \u001b[38;5;129;01min\u001b[39;00m \u001b[38;5;28mrange\u001b[39m(\u001b[38;5;241m1\u001b[39m,\u001b[38;5;241m3\u001b[39m):\n\u001b[0;32m      7\u001b[0m     inicio \u001b[38;5;241m=\u001b[39m time\u001b[38;5;241m.\u001b[39mtime()\n\u001b[1;32m----> 8\u001b[0m     vm \u001b[38;5;241m=\u001b[39m Vamana(base, \u001b[38;5;241m3\u001b[39m, i, \u001b[38;5;241m1\u001b[39m)\n\u001b[0;32m      9\u001b[0m     fin \u001b[38;5;241m=\u001b[39m time\u001b[38;5;241m.\u001b[39mtime()\n\u001b[0;32m     10\u001b[0m     valores\u001b[38;5;241m.\u001b[39mappend(i)\n",
      "Cell \u001b[1;32mIn[11], line 8\u001b[0m, in \u001b[0;36mVamana\u001b[1;34m(base, r, L, alpha)\u001b[0m\n\u001b[0;32m      6\u001b[0m \u001b[38;5;28;01mfor\u001b[39;00m i, attr \u001b[38;5;129;01min\u001b[39;00m V\u001b[38;5;241m.\u001b[39mnodes(data\u001b[38;5;241m=\u001b[39m\u001b[38;5;28;01mTrue\u001b[39;00m):\n\u001b[0;32m      7\u001b[0m     u \u001b[38;5;241m=\u001b[39m attr[\u001b[38;5;124m'\u001b[39m\u001b[38;5;124mvector\u001b[39m\u001b[38;5;124m'\u001b[39m]\n\u001b[1;32m----> 8\u001b[0m     visitados \u001b[38;5;241m=\u001b[39m voraz(V, u, L, np\u001b[38;5;241m.\u001b[39mrandom\u001b[38;5;241m.\u001b[39mrandint(\u001b[38;5;28mlen\u001b[39m(base)))[\u001b[38;5;241m1\u001b[39m]\n\u001b[0;32m      9\u001b[0m     distancias \u001b[38;5;241m=\u001b[39m \u001b[38;5;28msorted\u001b[39m([(j, attr[\u001b[38;5;124m'\u001b[39m\u001b[38;5;124mvector\u001b[39m\u001b[38;5;124m'\u001b[39m], euclidiana(u, attr[\u001b[38;5;124m'\u001b[39m\u001b[38;5;124mvector\u001b[39m\u001b[38;5;124m'\u001b[39m])) \u001b[38;5;28;01mfor\u001b[39;00m j, attr \u001b[38;5;129;01min\u001b[39;00m V\u001b[38;5;241m.\u001b[39mnodes(data\u001b[38;5;241m=\u001b[39m\u001b[38;5;28;01mTrue\u001b[39;00m) \u001b[38;5;28;01mif\u001b[39;00m j \u001b[38;5;129;01min\u001b[39;00m visitados], key \u001b[38;5;241m=\u001b[39m \u001b[38;5;28;01mlambda\u001b[39;00m x : x[\u001b[38;5;241m2\u001b[39m])[\u001b[38;5;241m2\u001b[39m:]\n\u001b[0;32m     10\u001b[0m     \u001b[38;5;28;01mwhile\u001b[39;00m distancias:\n",
      "Cell \u001b[1;32mIn[4], line 8\u001b[0m, in \u001b[0;36mvoraz\u001b[1;34m(G, q, k, s)\u001b[0m\n\u001b[0;32m      6\u001b[0m \u001b[38;5;28;01mfor\u001b[39;00m u \u001b[38;5;129;01min\u001b[39;00m Q:\n\u001b[0;32m      7\u001b[0m     S \u001b[38;5;241m=\u001b[39m S \u001b[38;5;241m|\u001b[39m \u001b[38;5;28mset\u001b[39m(G\u001b[38;5;241m.\u001b[39mneighbors(u))\n\u001b[1;32m----> 8\u001b[0m v \u001b[38;5;241m=\u001b[39m \u001b[38;5;28mmin\u001b[39m([(n, euclidiana(q, attr[\u001b[38;5;124m'\u001b[39m\u001b[38;5;124mvector\u001b[39m\u001b[38;5;124m'\u001b[39m])) \u001b[38;5;28;01mfor\u001b[39;00m n, attr \u001b[38;5;129;01min\u001b[39;00m G\u001b[38;5;241m.\u001b[39mnodes(data\u001b[38;5;241m=\u001b[39m\u001b[38;5;28;01mTrue\u001b[39;00m) \u001b[38;5;28;01mif\u001b[39;00m n \u001b[38;5;129;01min\u001b[39;00m S], key \u001b[38;5;241m=\u001b[39m \u001b[38;5;28;01mlambda\u001b[39;00m x: x[\u001b[38;5;241m1\u001b[39m])[\u001b[38;5;241m0\u001b[39m]\n\u001b[0;32m      9\u001b[0m visitados\u001b[38;5;241m.\u001b[39mappend(v)\n\u001b[0;32m     10\u001b[0m \u001b[38;5;28;01mif\u001b[39;00m v \u001b[38;5;241m==\u001b[39m Q[\u001b[38;5;241m-\u001b[39m\u001b[38;5;241m1\u001b[39m]:\n",
      "Cell \u001b[1;32mIn[2], line 2\u001b[0m, in \u001b[0;36meuclidiana\u001b[1;34m(u, v)\u001b[0m\n\u001b[0;32m      1\u001b[0m \u001b[38;5;28;01mdef\u001b[39;00m \u001b[38;5;21meuclidiana\u001b[39m(u,v):\n\u001b[1;32m----> 2\u001b[0m     \u001b[38;5;28;01mreturn\u001b[39;00m np\u001b[38;5;241m.\u001b[39mlinalg\u001b[38;5;241m.\u001b[39mnorm(u\u001b[38;5;241m-\u001b[39mv)\n",
      "File \u001b[1;32mc:\\ProgramData\\Anaconda3\\Lib\\site-packages\\numpy\\linalg\\linalg.py:2537\u001b[0m, in \u001b[0;36mnorm\u001b[1;34m(x, ord, axis, keepdims)\u001b[0m\n\u001b[0;32m   2534\u001b[0m x \u001b[38;5;241m=\u001b[39m asarray(x)\n\u001b[0;32m   2536\u001b[0m \u001b[38;5;28;01mif\u001b[39;00m \u001b[38;5;129;01mnot\u001b[39;00m \u001b[38;5;28missubclass\u001b[39m(x\u001b[38;5;241m.\u001b[39mdtype\u001b[38;5;241m.\u001b[39mtype, (inexact, object_)):\n\u001b[1;32m-> 2537\u001b[0m     x \u001b[38;5;241m=\u001b[39m x\u001b[38;5;241m.\u001b[39mastype(\u001b[38;5;28mfloat\u001b[39m)\n\u001b[0;32m   2539\u001b[0m \u001b[38;5;66;03m# Immediately handle some default, simple, fast, and common cases.\u001b[39;00m\n\u001b[0;32m   2540\u001b[0m \u001b[38;5;28;01mif\u001b[39;00m axis \u001b[38;5;129;01mis\u001b[39;00m \u001b[38;5;28;01mNone\u001b[39;00m:\n",
      "\u001b[1;31mKeyboardInterrupt\u001b[0m: "
     ]
    }
   ],
   "source": [
    "import time\n",
    "import matplotlib.pyplot as plt\n",
    "base = np.random.randint(0,10,(1000,5))\n",
    "valores = []\n",
    "tiempos = []\n",
    "for i in range(1,3):\n",
    "    inicio = time.time()\n",
    "    vm = Vamana(base, 3, i, 1)\n",
    "    fin = time.time()\n",
    "    valores.append(i)\n",
    "    tiempos.append(fin - inicio)\n",
    "    \n",
    "plt.xlabel('Valor de L')\n",
    "plt.ylabel('Tiempo de creación índice')\n",
    "plt.plot(valores, tiempos)\n",
    "\n",
    "    "
   ]
  },
  {
   "cell_type": "code",
   "execution_count": 12,
   "id": "4f1e9698",
   "metadata": {},
   "outputs": [
    {
     "ename": "KeyboardInterrupt",
     "evalue": "",
     "output_type": "error",
     "traceback": [
      "\u001b[1;31m---------------------------------------------------------------------------\u001b[0m",
      "\u001b[1;31mKeyboardInterrupt\u001b[0m                         Traceback (most recent call last)",
      "Cell \u001b[1;32mIn[12], line 2\u001b[0m\n\u001b[0;32m      1\u001b[0m base \u001b[38;5;241m=\u001b[39m np\u001b[38;5;241m.\u001b[39mrandom\u001b[38;5;241m.\u001b[39mrandint(\u001b[38;5;241m-\u001b[39m\u001b[38;5;241m5\u001b[39m,\u001b[38;5;241m5\u001b[39m,(\u001b[38;5;241m1000\u001b[39m,\u001b[38;5;241m5\u001b[39m))\n\u001b[1;32m----> 2\u001b[0m vm \u001b[38;5;241m=\u001b[39m Vamana(base, \u001b[38;5;241m3\u001b[39m, \u001b[38;5;241m1\u001b[39m, \u001b[38;5;241m1\u001b[39m)\n",
      "Cell \u001b[1;32mIn[11], line 8\u001b[0m, in \u001b[0;36mVamana\u001b[1;34m(base, r, L, alpha)\u001b[0m\n\u001b[0;32m      6\u001b[0m \u001b[38;5;28;01mfor\u001b[39;00m i, attr \u001b[38;5;129;01min\u001b[39;00m V\u001b[38;5;241m.\u001b[39mnodes(data\u001b[38;5;241m=\u001b[39m\u001b[38;5;28;01mTrue\u001b[39;00m):\n\u001b[0;32m      7\u001b[0m     u \u001b[38;5;241m=\u001b[39m attr[\u001b[38;5;124m'\u001b[39m\u001b[38;5;124mvector\u001b[39m\u001b[38;5;124m'\u001b[39m]\n\u001b[1;32m----> 8\u001b[0m     visitados \u001b[38;5;241m=\u001b[39m voraz(V, u, L, np\u001b[38;5;241m.\u001b[39mrandom\u001b[38;5;241m.\u001b[39mrandint(\u001b[38;5;28mlen\u001b[39m(base)))[\u001b[38;5;241m1\u001b[39m]\n\u001b[0;32m      9\u001b[0m     distancias \u001b[38;5;241m=\u001b[39m \u001b[38;5;28msorted\u001b[39m([(j, attr[\u001b[38;5;124m'\u001b[39m\u001b[38;5;124mvector\u001b[39m\u001b[38;5;124m'\u001b[39m], euclidiana(u, attr[\u001b[38;5;124m'\u001b[39m\u001b[38;5;124mvector\u001b[39m\u001b[38;5;124m'\u001b[39m])) \u001b[38;5;28;01mfor\u001b[39;00m j, attr \u001b[38;5;129;01min\u001b[39;00m V\u001b[38;5;241m.\u001b[39mnodes(data\u001b[38;5;241m=\u001b[39m\u001b[38;5;28;01mTrue\u001b[39;00m) \u001b[38;5;28;01mif\u001b[39;00m j \u001b[38;5;129;01min\u001b[39;00m visitados], key \u001b[38;5;241m=\u001b[39m \u001b[38;5;28;01mlambda\u001b[39;00m x : x[\u001b[38;5;241m2\u001b[39m])[\u001b[38;5;241m2\u001b[39m:]\n\u001b[0;32m     10\u001b[0m     \u001b[38;5;28;01mwhile\u001b[39;00m distancias:\n",
      "Cell \u001b[1;32mIn[4], line 8\u001b[0m, in \u001b[0;36mvoraz\u001b[1;34m(G, q, k, s)\u001b[0m\n\u001b[0;32m      6\u001b[0m \u001b[38;5;28;01mfor\u001b[39;00m u \u001b[38;5;129;01min\u001b[39;00m Q:\n\u001b[0;32m      7\u001b[0m     S \u001b[38;5;241m=\u001b[39m S \u001b[38;5;241m|\u001b[39m \u001b[38;5;28mset\u001b[39m(G\u001b[38;5;241m.\u001b[39mneighbors(u))\n\u001b[1;32m----> 8\u001b[0m v \u001b[38;5;241m=\u001b[39m \u001b[38;5;28mmin\u001b[39m([(n, euclidiana(q, attr[\u001b[38;5;124m'\u001b[39m\u001b[38;5;124mvector\u001b[39m\u001b[38;5;124m'\u001b[39m])) \u001b[38;5;28;01mfor\u001b[39;00m n, attr \u001b[38;5;129;01min\u001b[39;00m G\u001b[38;5;241m.\u001b[39mnodes(data\u001b[38;5;241m=\u001b[39m\u001b[38;5;28;01mTrue\u001b[39;00m) \u001b[38;5;28;01mif\u001b[39;00m n \u001b[38;5;129;01min\u001b[39;00m S], key \u001b[38;5;241m=\u001b[39m \u001b[38;5;28;01mlambda\u001b[39;00m x: x[\u001b[38;5;241m1\u001b[39m])[\u001b[38;5;241m0\u001b[39m]\n\u001b[0;32m      9\u001b[0m visitados\u001b[38;5;241m.\u001b[39mappend(v)\n\u001b[0;32m     10\u001b[0m \u001b[38;5;28;01mif\u001b[39;00m v \u001b[38;5;241m==\u001b[39m Q[\u001b[38;5;241m-\u001b[39m\u001b[38;5;241m1\u001b[39m]:\n",
      "Cell \u001b[1;32mIn[2], line 2\u001b[0m, in \u001b[0;36meuclidiana\u001b[1;34m(u, v)\u001b[0m\n\u001b[0;32m      1\u001b[0m \u001b[38;5;28;01mdef\u001b[39;00m \u001b[38;5;21meuclidiana\u001b[39m(u,v):\n\u001b[1;32m----> 2\u001b[0m     \u001b[38;5;28;01mreturn\u001b[39;00m np\u001b[38;5;241m.\u001b[39mlinalg\u001b[38;5;241m.\u001b[39mnorm(u\u001b[38;5;241m-\u001b[39mv)\n",
      "File \u001b[1;32mc:\\ProgramData\\Anaconda3\\Lib\\site-packages\\numpy\\linalg\\linalg.py:2552\u001b[0m, in \u001b[0;36mnorm\u001b[1;34m(x, ord, axis, keepdims)\u001b[0m\n\u001b[0;32m   2550\u001b[0m     sqnorm \u001b[38;5;241m=\u001b[39m x_real\u001b[38;5;241m.\u001b[39mdot(x_real) \u001b[38;5;241m+\u001b[39m x_imag\u001b[38;5;241m.\u001b[39mdot(x_imag)\n\u001b[0;32m   2551\u001b[0m \u001b[38;5;28;01melse\u001b[39;00m:\n\u001b[1;32m-> 2552\u001b[0m     sqnorm \u001b[38;5;241m=\u001b[39m x\u001b[38;5;241m.\u001b[39mdot(x)\n\u001b[0;32m   2553\u001b[0m ret \u001b[38;5;241m=\u001b[39m sqrt(sqnorm)\n\u001b[0;32m   2554\u001b[0m \u001b[38;5;28;01mif\u001b[39;00m keepdims:\n",
      "\u001b[1;31mKeyboardInterrupt\u001b[0m: "
     ]
    }
   ],
   "source": [
    "base = np.random.randint(-5,5,(1000,5))\n",
    "vm = Vamana(base, 3, 1, 1)"
   ]
  },
  {
   "cell_type": "code",
   "execution_count": 11,
   "id": "a40d8e71",
   "metadata": {},
   "outputs": [
    {
     "ename": "ValueError",
     "evalue": "operands could not be broadcast together with shapes (2,) (5,) ",
     "output_type": "error",
     "traceback": [
      "\u001b[1;31m---------------------------------------------------------------------------\u001b[0m",
      "\u001b[1;31mValueError\u001b[0m                                Traceback (most recent call last)",
      "Cell \u001b[1;32mIn[11], line 2\u001b[0m\n\u001b[0;32m      1\u001b[0m q \u001b[38;5;241m=\u001b[39m np\u001b[38;5;241m.\u001b[39mrandom\u001b[38;5;241m.\u001b[39mrandint(\u001b[38;5;241m-\u001b[39m\u001b[38;5;241m10\u001b[39m,\u001b[38;5;241m0\u001b[39m,\u001b[38;5;241m2\u001b[39m)\n\u001b[1;32m----> 2\u001b[0m dist \u001b[38;5;241m=\u001b[39m euclidiana(voraz(vm,q,\u001b[38;5;241m2\u001b[39m,np\u001b[38;5;241m.\u001b[39mrandom\u001b[38;5;241m.\u001b[39mrandint(\u001b[38;5;241m0\u001b[39m,\u001b[38;5;28mlen\u001b[39m(vm\u001b[38;5;241m.\u001b[39mnodes())))[\u001b[38;5;241m0\u001b[39m][\u001b[38;5;241m0\u001b[39m], q)\n\u001b[0;32m      3\u001b[0m dist\n",
      "Cell \u001b[1;32mIn[7], line 8\u001b[0m, in \u001b[0;36mvoraz\u001b[1;34m(G, q, k, s)\u001b[0m\n\u001b[0;32m      6\u001b[0m \u001b[38;5;28;01mfor\u001b[39;00m u \u001b[38;5;129;01min\u001b[39;00m Q:\n\u001b[0;32m      7\u001b[0m     S \u001b[38;5;241m=\u001b[39m S \u001b[38;5;241m|\u001b[39m \u001b[38;5;28mset\u001b[39m(G\u001b[38;5;241m.\u001b[39mneighbors(u))\n\u001b[1;32m----> 8\u001b[0m v \u001b[38;5;241m=\u001b[39m \u001b[38;5;28mmin\u001b[39m([(n, euclidiana(q, attr[\u001b[38;5;124m'\u001b[39m\u001b[38;5;124mvector\u001b[39m\u001b[38;5;124m'\u001b[39m])) \u001b[38;5;28;01mfor\u001b[39;00m n, attr \u001b[38;5;129;01min\u001b[39;00m G\u001b[38;5;241m.\u001b[39mnodes(data\u001b[38;5;241m=\u001b[39m\u001b[38;5;28;01mTrue\u001b[39;00m) \u001b[38;5;28;01mif\u001b[39;00m n \u001b[38;5;129;01min\u001b[39;00m S], key \u001b[38;5;241m=\u001b[39m \u001b[38;5;28;01mlambda\u001b[39;00m x: x[\u001b[38;5;241m1\u001b[39m])[\u001b[38;5;241m0\u001b[39m]\n\u001b[0;32m      9\u001b[0m visitados\u001b[38;5;241m.\u001b[39mappend(v)\n\u001b[0;32m     10\u001b[0m \u001b[38;5;28;01mif\u001b[39;00m v \u001b[38;5;241m==\u001b[39m Q[\u001b[38;5;241m-\u001b[39m\u001b[38;5;241m1\u001b[39m]:\n",
      "Cell \u001b[1;32mIn[2], line 2\u001b[0m, in \u001b[0;36meuclidiana\u001b[1;34m(u, v)\u001b[0m\n\u001b[0;32m      1\u001b[0m \u001b[38;5;28;01mdef\u001b[39;00m \u001b[38;5;21meuclidiana\u001b[39m(u,v):\n\u001b[1;32m----> 2\u001b[0m     \u001b[38;5;28;01mreturn\u001b[39;00m np\u001b[38;5;241m.\u001b[39mlinalg\u001b[38;5;241m.\u001b[39mnorm(u\u001b[38;5;241m-\u001b[39mv)\n",
      "\u001b[1;31mValueError\u001b[0m: operands could not be broadcast together with shapes (2,) (5,) "
     ]
    }
   ],
   "source": [
    "q = np.random.randint(-10,0,2)\n",
    "dist = euclidiana(voraz(vm,q,2,np.random.randint(0,len(vm.nodes())))[0][0], q)\n",
    "dist"
   ]
  },
  {
   "cell_type": "code",
   "execution_count": 72,
   "id": "4d36ec85",
   "metadata": {},
   "outputs": [],
   "source": [
    "iteraciones = 1000\n",
    "error_medio = 0\n",
    "q = np.random.randint(-10,0,50)\n",
    "for _ in range(iteraciones):\n",
    "#     q = np.random.randint(-500,500,50)\n",
    "#     mindist = np.min([euclidiana(q, b) for b in base])\n",
    "    dist = euclidiana(voraz(vm,q,2,np.random.randint(0,len(vm.nodes())))[0][0], q)\n",
    "#     print(dist, mindist)\n",
    "#     if dist == mindist:\n",
    "#         error_medio += 1\n",
    "#     else:\n",
    "#         error_medio += (dist - mindist) / (dist + mindist)\n",
    "# error_medio / iteraciones"
   ]
  },
  {
   "cell_type": "code",
   "execution_count": 41,
   "id": "09aba090",
   "metadata": {},
   "outputs": [],
   "source": [
    "def clustering(base, c):    \n",
    "    centroids, _ = kmeans(base, c)\n",
    "    clusters, _ = vq(base, centroids)\n",
    "    return centroids, clusters"
   ]
  },
  {
   "cell_type": "code",
   "execution_count": 42,
   "id": "ec246c12",
   "metadata": {},
   "outputs": [],
   "source": [
    "def consultaCluster(base, centroids, clusters, q, k):\n",
    "    centroide = np.argmin([euclidiana(q, c) for c in centroids])\n",
    "    return base[np.argpartition([euclidiana(q, v) for i, v in enumerate(base) if clusters[i] == centroide], k)][:k]"
   ]
  },
  {
   "cell_type": "code",
   "execution_count": 43,
   "id": "54d74a3e",
   "metadata": {},
   "outputs": [
    {
     "name": "stdout",
     "output_type": "stream",
     "text": [
      "[[2.20454545 1.63636364 3.15909091 1.84090909 2.06818182]\n",
      " [2.28571429 2.96428571 1.         3.14285714 3.46428571]\n",
      " [1.         1.57142857 0.64285714 1.46428571 1.28571429]] [1 0 2 0 2 1 2 2 0 2 1 0 1 0 2 0 1 1 2 0 2 2 1 0 0 1 0 0 0 0 0 0 2 0 2 0 0\n",
      " 2 0 2 1 2 0 0 1 1 0 0 2 1 0 2 0 0 0 0 0 1 2 2 1 2 2 1 1 0 1 0 1 2 1 0 0 2\n",
      " 0 0 2 0 0 1 2 1 1 0 2 2 0 0 0 2 0 0 1 1 0 2 1 1 1 1]\n"
     ]
    }
   ],
   "source": [
    "base = np.random.randint(0,5,(100,5))\n",
    "centroids, clusters = clustering(base.astype(float), 3)\n",
    "print(centroids,clusters)"
   ]
  },
  {
   "cell_type": "code",
   "execution_count": null,
   "id": "b1d5325e",
   "metadata": {},
   "outputs": [],
   "source": [
    "def distribucionesMIPS(base):\n",
    "    ptq = np.sum(base, axis=0)\n",
    "    putq = []\n",
    "    for u in base: \n",
    "        putq.append([u[t] / np.sum([base[:, t]]) for t in range(base.shape[1])])\n",
    "    return ptq , np.array(putq)\n"
   ]
  },
  {
   "cell_type": "code",
   "execution_count": null,
   "id": "df7c46fc",
   "metadata": {},
   "outputs": [],
   "source": [
    "def muestreo(base, ptq, putq, q):\n",
    "    ptq = q * ptq\n",
    "    nptq = ptq / np.sum(ptq)\n",
    "    dim = np.random.choice(np.arange(q.shape[0]), p=list(nptq))\n",
    "    vector = np.random.choice(np.arange(putq.shape[0]), p=list(putq[:, dim]))\n",
    "    return base[vector]\n"
   ]
  },
  {
   "cell_type": "code",
   "execution_count": null,
   "id": "0c1d65d4",
   "metadata": {},
   "outputs": [],
   "source": [
    "ptq, putq = distribucionesMIPS(base)"
   ]
  },
  {
   "cell_type": "code",
   "execution_count": null,
   "id": "5ecca7d5",
   "metadata": {},
   "outputs": [],
   "source": [
    "muestreo(base, ptq, putq, q)"
   ]
  },
  {
   "cell_type": "code",
   "execution_count": null,
   "id": "cfe56830",
   "metadata": {},
   "outputs": [],
   "source": [
    "np.dot(muestreo(base, ptq, putq, q), q) - np.max([np.dot(v, q) for v in base])"
   ]
  },
  {
   "cell_type": "code",
   "execution_count": null,
   "id": "fb2f09b3",
   "metadata": {},
   "outputs": [],
   "source": [
    "def sMuestreos(base, ptq, putq, q, s, kprima, k):\n",
    "    cont = {}\n",
    "    for i in range(s):\n",
    "        v = muestreo(base, ptq, putq, q)\n",
    "        if tuple(v) not in cont:\n",
    "            cont[tuple(v)] = 1\n",
    "        else:\n",
    "            cont[tuple(v)] +=1\n",
    "    topkprima = sorted([v for v in cont],  reverse=True, key = lambda x : cont[x])[:kprima]\n",
    "    topk = sorted([np.array(v) for v in topkprima], reverse=True, key = lambda x : np.dot(np.array(v), q))[:k]\n",
    "    return topk\n"
   ]
  },
  {
   "cell_type": "code",
   "execution_count": null,
   "id": "580eca6b",
   "metadata": {},
   "outputs": [],
   "source": [
    "np.dot(q, sMuestreos(base, ptq, putq, q, 10000, 20, 5)[0]) - np.max([np.dot(q, v) for v in base]), np.dot(q, sMuestreos(base, ptq, putq, q, 10000, 20, 5)[0]) - np.min([np.dot(q, v) for v in base])"
   ]
  },
  {
   "cell_type": "code",
   "execution_count": null,
   "id": "a6116f6a",
   "metadata": {},
   "outputs": [],
   "source": [
    "def boundedME(q, k, base, epsilon, delta):\n",
    "    X = base\n",
    "    m, d = X.shape\n",
    "    A = np.zeros(m)\n",
    "    t = 0\n",
    "    \n",
    "    h = lambda x : np.min([1 + x / 1 + (x/d), x + (x/d) / 1 + (x/d)])\n",
    "    while len(X) > k:\n",
    "        numerador = 2 * (len(X) - k)\n",
    "        denominador = delta * (np.floor((len(X) - k) / 2) + 1)\n",
    "        ti = h((2 / epsilon**2) * np.log(numerador / denominador))\n",
    "        for u in X: \n",
    "            J = np.random.choice(d, int(ti - t), replace=False)\n",
    "            A[J] = A[J] + u[J] * q[J]\n",
    "        alpha = sorted(A)[int(np.floor((len(X) - k) / 2))]\n",
    "        indices = np.where(A > alpha)\n",
    "        X = X[indices]\n",
    "        epsilon *= 3 / 4\n",
    "        delta /= 2\n",
    "    return X"
   ]
  },
  {
   "cell_type": "code",
   "execution_count": null,
   "id": "1168c50e",
   "metadata": {},
   "outputs": [],
   "source": [
    "def clustering(base, c):    \n",
    "    centroids, _ = kmeans(base, c)\n",
    "    clusters, _ = vq(base, centroids)\n",
    "    return centroids, clusters"
   ]
  },
  {
   "cell_type": "code",
   "execution_count": null,
   "id": "fc833c48",
   "metadata": {},
   "outputs": [],
   "source": [
    "def consultaCluster(base, centroids, clusters, q, k):\n",
    "    centroide = np.argmin([euclidiana(q, c) for c in centroids])\n",
    "    return base[np.argpartition([euclidiana(q, v) for i, v in enumerate(base) if clusters[i] == centroide], k)][:k]"
   ]
  },
  {
   "cell_type": "code",
   "execution_count": 77,
   "id": "ba1457a2",
   "metadata": {},
   "outputs": [],
   "source": [
    "def PQ(base, d0,c):\n",
    "    d = base.shape[1]\n",
    "    # A partir de aquí se define una matriz R tal que RR^T = I mediante factorización QR de una matriz aleatoria\n",
    "    A = np.random.randn(d, d)\n",
    "    Q, _ = np.linalg.qr(A.T)\n",
    "    R = Q.T\n",
    "    base = base @ R\n",
    "    if d % d0 != 0:\n",
    "        raise ValueError(\"La dimensión no es divisible entre d0\")\n",
    "    L = d // d0\n",
    "    espacios = []\n",
    "    for l in range(L):\n",
    "        region = base[:,int(l*d0):int((l+1)*d0)]\n",
    "        espacios.append(kmeans(region.astype(float),c)[0])\n",
    "    return np.array(espacios)"
   ]
  },
  {
   "cell_type": "code",
   "execution_count": 78,
   "id": "ac587d5b",
   "metadata": {},
   "outputs": [],
   "source": [
    "def consultaPQ(espacios, q):\n",
    "    d0 = espacios[0].shape[1]\n",
    "    d = q.shape[0]\n",
    "    L = d // d0\n",
    "    resp = []\n",
    "    for l in range(L):\n",
    "        nc = espacios[l, np.argmin([euclidiana(e, q[int(l*d0):int((l+1)*d0)]) for e in espacios[l]])]\n",
    "        for i in range(len(nc)):\n",
    "            resp.append(nc[i])\n",
    "    return np.array(resp)"
   ]
  },
  {
   "cell_type": "code",
   "execution_count": 86,
   "id": "1223bbd9",
   "metadata": {},
   "outputs": [],
   "source": [
    "def clustPQ(base, cen, cb, d0):\n",
    "    centroides, clusters = clustering(base, cen)\n",
    "    books = {}\n",
    "    for i, _ in enumerate(centroides):\n",
    "        books[i] = PQ(base[[j for j in range(base.shape[0]) if clusters[j] == i]], d0, cb)\n",
    "    return centroides, books"
   ]
  },
  {
   "cell_type": "code",
   "execution_count": 220,
   "id": "05ba9130",
   "metadata": {},
   "outputs": [],
   "source": [
    "def busquedaClustPq(q, centroides, books):\n",
    "    b = np.argmin([euclidiana(q, c) for c in centroides])\n",
    "    return consultaPQ(books[b], q)"
   ]
  },
  {
   "cell_type": "code",
   "execution_count": 248,
   "id": "4f2aff36",
   "metadata": {},
   "outputs": [],
   "source": [
    "def sketchingJL(base, d0):\n",
    "    d = base.shape[1]\n",
    "    phi = 1/np.sqrt(d0) * np.array([[1 if t > 0.5 else -1 for t in fila] for fila in  np.random.sample((d,d0))])\n",
    "    return base @ phi"
   ]
  },
  {
   "cell_type": "code",
   "execution_count": null,
   "id": "59512831",
   "metadata": {},
   "outputs": [],
   "source": [
    "base = np.random.randint(0,5,(100,50))\n",
    "sketchingJL(base, 5).shape"
   ]
  },
  {
   "cell_type": "code",
   "execution_count": null,
   "id": "7c1151e8",
   "metadata": {},
   "outputs": [],
   "source": [
    "def asymetricSketching(u, h, d0):\n",
    "    u_up, u_down = np.zeros(d0 // 2), np.zeros(d0 // 2)\n",
    "    for k in range(d0 // 2):\n",
    "        I = [i for i in nz(u) if any([pi_0(i) == k for pi_0 in h])]\n",
    "        seleccionados = u[I]\n",
    "        u_up[k] = np.max(seleccionados)\n",
    "        u_down[k] = np.min(seleccionados)\n",
    "    return nz(u), u_up, u_down"
   ]
  },
  {
   "cell_type": "code",
   "execution_count": null,
   "id": "b56d7214",
   "metadata": {},
   "outputs": [],
   "source": [
    "def asymetricSketchingDistance(nz, u_up, u_down, q, h):\n",
    "    s = 0\n",
    "    for i in set(nz(q)) & set(nz):\n",
    "        J = [pi_0(i) for pi_0 in h]\n",
    "        if q[i] > 0:\n",
    "            s += np.min(u_up[J])\n",
    "        else:\n",
    "            s += np.max(u_down[J])\n",
    "    return s"
   ]
  },
  {
   "cell_type": "code",
   "execution_count": null,
   "id": "4f2462d2",
   "metadata": {},
   "outputs": [],
   "source": [
    "def samplingSketching(u, pi, d0):\n",
    "    I, V = [], []\n",
    "    norma = np.linalg.norm(u)\n",
    "    for i in nz(u):\n",
    "        theta = d0*(u[i] / norma)\n",
    "        if pi(i) <= theta:\n",
    "            I.append(i)\n",
    "            V.append(u[i])\n",
    "    return I, V, norma    "
   ]
  },
  {
   "cell_type": "code",
   "execution_count": null,
   "id": "ea389c0f",
   "metadata": {},
   "outputs": [],
   "source": [
    "def samplingSketchingDistance(su, sv, d0):\n",
    "    Iu, Vu, norma_u = su\n",
    "    Iv, Vv, norma_v = sv\n",
    "    s = 0\n",
    "    for i in set(Iu) & set(Iv):\n",
    "        s += Vu[i]*Vv[i] / min(1, d0*Vu[i]**2/norma_u,d0*Vv[i]**2/norma_v)\n",
    "    return s"
   ]
  }
 ],
 "metadata": {
  "kernelspec": {
   "display_name": "base",
   "language": "python",
   "name": "python3"
  },
  "language_info": {
   "codemirror_mode": {
    "name": "ipython",
    "version": 3
   },
   "file_extension": ".py",
   "mimetype": "text/x-python",
   "name": "python",
   "nbconvert_exporter": "python",
   "pygments_lexer": "ipython3",
   "version": "3.12.7"
  }
 },
 "nbformat": 7,
 "nbformat_minor": 16
}
